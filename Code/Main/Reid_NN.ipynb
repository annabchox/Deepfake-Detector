{
 "cells": [
  {
   "cell_type": "code",
   "execution_count": 46,
   "id": "fe96b1ea-fe6a-4d98-ad1c-ad761fe0d4be",
   "metadata": {},
   "outputs": [],
   "source": [
    "# imports\n",
    "import matplotlib.pyplot as plt\n",
    "import numpy as np\n",
    "import pandas as pd\n",
    "from functools import partial\n",
    "import os\n",
    "\n",
    "import tensorflow as tf\n",
    "from tensorflow.keras.preprocessing.image import img_to_array, load_img, save_img\n",
    "from tensorflow.keras.layers import Dense, Dropout, Flatten, Conv2D, MaxPooling2D, BatchNormalization\n",
    "from tensorflow.keras.models import Sequential\n",
    "from tensorflow.keras.preprocessing import image_dataset_from_directory\n",
    "from tensorflow.keras.layers.experimental.preprocessing import Rescaling\n",
    "from tensorflow.keras import layers\n",
    "from tensorflow.keras.layers.experimental import preprocessing\n",
    "from tensorflow.keras.applications.inception_v3 import InceptionV3\n",
    "from keras.applications.efficientnet_v2 import EfficientNetV2B0\n",
    "from tensorflow.keras.layers import GlobalAveragePooling2D\n",
    "from tensorflow.keras.optimizers import Adam\n",
    "\n",
    "# For reproducibility\n",
    "tf.keras.utils.set_random_seed(42)"
   ]
  },
  {
   "cell_type": "markdown",
   "id": "c1a478fc-c526-47e2-a521-58dcb63649b1",
   "metadata": {},
   "source": [
    "# Set Training and Validation Datasets"
   ]
  },
  {
   "cell_type": "markdown",
   "id": "6b0434bf-e487-4c00-bf3c-6e96559fb1b0",
   "metadata": {},
   "source": [
    "### Directories"
   ]
  },
  {
   "cell_type": "code",
   "execution_count": 84,
   "id": "ef37d3bc-f958-4da3-b560-9082f923ef72",
   "metadata": {},
   "outputs": [],
   "source": [
    "train_directory = '../../Data/Train/'\n",
    "validation_directory = '../../Data/Validation/'"
   ]
  },
  {
   "cell_type": "markdown",
   "id": "fb873cee-b2d4-4350-b186-74a9720cc2f8",
   "metadata": {},
   "source": [
    "### Image Shapes"
   ]
  },
  {
   "cell_type": "code",
   "execution_count": 85,
   "id": "58f10bef-db1d-4e17-9aab-8010c2237fc7",
   "metadata": {},
   "outputs": [],
   "source": [
    "img = img_to_array(load_img(train_directory + 'Fake/Fake_10.jpg'))\n",
    "\n",
    "w = img.shape[0]\n",
    "h = img.shape[1]"
   ]
  },
  {
   "cell_type": "code",
   "execution_count": 44,
   "id": "8e19f5f3-ad41-4a60-af18-303376562643",
   "metadata": {},
   "outputs": [
    {
     "name": "stdout",
     "output_type": "stream",
     "text": [
      "Found 140002 files belonging to 2 classes.\n",
      "Found 39428 files belonging to 2 classes.\n"
     ]
    }
   ],
   "source": [
    "train_ds = image_dataset_from_directory(\n",
    "    directory=train_directory,\n",
    "    image_size=(w, h),\n",
    "    batch_size=64,\n",
    "    seed=42,\n",
    "    label_mode='binary',\n",
    ")\n",
    "\n",
    "val_ds = image_dataset_from_directory(\n",
    "    directory=validation_directory,\n",
    "    image_size=(w, h),\n",
    "    batch_size=64,\n",
    "    seed=42,\n",
    "    label_mode='binary',\n",
    ")"
   ]
  },
  {
   "cell_type": "markdown",
   "id": "8d88c796-cc8f-4224-823e-1d2696d06e76",
   "metadata": {},
   "source": [
    "# EfficientnetV2B0 Model"
   ]
  },
  {
   "cell_type": "code",
   "execution_count": 47,
   "id": "503a536a-d0f1-472b-927b-ce3759655833",
   "metadata": {},
   "outputs": [
    {
     "name": "stdout",
     "output_type": "stream",
     "text": [
      "Downloading data from https://storage.googleapis.com/tensorflow/keras-applications/efficientnet_v2/efficientnetv2-b0_notop.h5\n",
      "24281088/24274472 [==============================] - 1s 0us/step\n",
      "24289280/24274472 [==============================] - 1s 0us/step\n"
     ]
    }
   ],
   "source": [
    "model = Sequential()\n",
    "\n",
    "effnet_V2L = EfficientNetV2B0(\n",
    "    weights='imagenet',   \n",
    "    input_shape=(h,w,3), \n",
    "    include_top=False,\n",
    "    pooling='max',\n",
    "    classes = 2,\n",
    "    include_preprocessing=True     #Efficientnet_2L expects [-1, 1] range, if set to False\n",
    ")\n",
    "\n",
    "effnet_V2L.trainable = True\n",
    "\n",
    "model.add(effnet_V2L)\n",
    "\n",
    "model.add(Dense(1, activation='sigmoid'))"
   ]
  },
  {
   "cell_type": "code",
   "execution_count": 48,
   "id": "1bc697ae-f648-4582-a007-e03a1bcab6b3",
   "metadata": {},
   "outputs": [
    {
     "name": "stdout",
     "output_type": "stream",
     "text": [
      "Model: \"sequential_10\"\n",
      "_________________________________________________________________\n",
      " Layer (type)                Output Shape              Param #   \n",
      "=================================================================\n",
      " efficientnetv2-b0 (Function  (None, 1280)             5919312   \n",
      " al)                                                             \n",
      "                                                                 \n",
      " dense_2 (Dense)             (None, 1)                 1281      \n",
      "                                                                 \n",
      "=================================================================\n",
      "Total params: 5,920,593\n",
      "Trainable params: 5,859,985\n",
      "Non-trainable params: 60,608\n",
      "_________________________________________________________________\n"
     ]
    }
   ],
   "source": [
    "model.summary()"
   ]
  },
  {
   "cell_type": "code",
   "execution_count": 49,
   "id": "026e6563-a8f3-4138-9a69-7f763e4f8d41",
   "metadata": {},
   "outputs": [],
   "source": [
    "model.compile(\n",
    "    optimizer=Adam(learning_rate=0.00001),\n",
    "    loss='bce',\n",
    "    metrics=['acc']\n",
    ")"
   ]
  },
  {
   "cell_type": "code",
   "execution_count": 50,
   "id": "f8c31325-0b1b-4300-b52d-21c3ea4decb5",
   "metadata": {},
   "outputs": [
    {
     "name": "stdout",
     "output_type": "stream",
     "text": [
      "Epoch 1/10\n"
     ]
    },
    {
     "name": "stderr",
     "output_type": "stream",
     "text": [
      "2023-05-18 17:28:48.608097: I tensorflow/core/grappler/optimizers/custom_graph_optimizer_registry.cc:113] Plugin optimizer for device_type GPU is enabled.\n"
     ]
    },
    {
     "name": "stdout",
     "output_type": "stream",
     "text": [
      "2188/2188 [==============================] - ETA: 0s - loss: 0.3019 - acc: 0.8872"
     ]
    },
    {
     "name": "stderr",
     "output_type": "stream",
     "text": [
      "2023-05-18 18:28:05.681589: I tensorflow/core/grappler/optimizers/custom_graph_optimizer_registry.cc:113] Plugin optimizer for device_type GPU is enabled.\n"
     ]
    },
    {
     "name": "stdout",
     "output_type": "stream",
     "text": [
      "2188/2188 [==============================] - 3784s 2s/step - loss: 0.3019 - acc: 0.8872 - val_loss: 0.2602 - val_acc: 0.9033\n",
      "Epoch 2/10\n",
      "2188/2188 [==============================] - 3909s 2s/step - loss: 0.1009 - acc: 0.9617 - val_loss: 0.1820 - val_acc: 0.9311\n",
      "Epoch 3/10\n",
      "2188/2188 [==============================] - 3566s 2s/step - loss: 0.0610 - acc: 0.9765 - val_loss: 0.1432 - val_acc: 0.9465\n",
      "Epoch 4/10\n",
      "2188/2188 [==============================] - 3557s 2s/step - loss: 0.0392 - acc: 0.9851 - val_loss: 0.1265 - val_acc: 0.9544\n",
      "Epoch 5/10\n",
      "2188/2188 [==============================] - 3501s 2s/step - loss: 0.0252 - acc: 0.9910 - val_loss: 0.1173 - val_acc: 0.9590\n",
      "Epoch 6/10\n",
      "2188/2188 [==============================] - 3449s 2s/step - loss: 0.0170 - acc: 0.9944 - val_loss: 0.1168 - val_acc: 0.9614\n",
      "Epoch 7/10\n",
      "2188/2188 [==============================] - 3435s 2s/step - loss: 0.0120 - acc: 0.9961 - val_loss: 0.1092 - val_acc: 0.9649\n",
      "Epoch 8/10\n",
      "2188/2188 [==============================] - 3585s 2s/step - loss: 0.0087 - acc: 0.9972 - val_loss: 0.1148 - val_acc: 0.9655\n",
      "Epoch 9/10\n",
      "2188/2188 [==============================] - 3561s 2s/step - loss: 0.0068 - acc: 0.9978 - val_loss: 0.1050 - val_acc: 0.9690\n",
      "Epoch 10/10\n",
      "2188/2188 [==============================] - 3382s 2s/step - loss: 0.0052 - acc: 0.9985 - val_loss: 0.1196 - val_acc: 0.9651\n"
     ]
    }
   ],
   "source": [
    "history = model.fit(train_ds, validation_data=val_ds, epochs=10)"
   ]
  },
  {
   "cell_type": "code",
   "execution_count": 86,
   "id": "e0707298-8ee9-4dd9-8345-229dd6cef337",
   "metadata": {},
   "outputs": [],
   "source": [
    "import sys\n",
    "sys.path.append(\"..\")\n",
    " \n",
    "import Helper.config as hf"
   ]
  },
  {
   "cell_type": "markdown",
   "id": "57e38a97-bb32-4024-a66e-3dd6e2c58a10",
   "metadata": {},
   "source": [
    "### Plot Comparative Metrics"
   ]
  },
  {
   "cell_type": "code",
   "execution_count": 87,
   "id": "afeb863f-b500-4f05-8f3a-5702bbada1aa",
   "metadata": {},
   "outputs": [
    {
     "data": {
      "image/png": "[encoded data removed]",
      "text/plain": [
       "<Figure size 1000x500 with 2 Axes>"
      ]
     },
     "metadata": {},
     "output_type": "display_data"
    }
   ],
   "source": [
    "hf.graph_me(history, ['acc'])"
   ]
  },
  {
   "cell_type": "markdown",
   "id": "5c1ec28d-88d4-4646-84b1-faaae5edad49",
   "metadata": {},
   "source": [
    "# CNN Model"
   ]
  },
  {
   "cell_type": "code",
   "execution_count": 88,
   "id": "e91ccd46-e139-4c39-be1b-4bff2bc530af",
   "metadata": {},
   "outputs": [],
   "source": [
    "# Reduced complexity and added normalization and dropout to an approach taken here, based on a theory that it would improve performance \n",
    "# https://www.kaggle.com/code/slimreaper/inceptionv3-88-classification\n",
    "\n",
    "cnn_model = Sequential()\n",
    "\n",
    "cnn_model.add(Rescaling(1./255, input_shape=(h,w,3)))\n",
    "\n",
    "cnn_model.add(Conv2D(16, (3,3), activation='relu'))\n",
    "cnn_model.add(MaxPooling2D(pool_size=(2,2)))\n",
    "\n",
    "cnn_model.add(Conv2D(32, (3,3), activation='relu'))\n",
    "cnn_model.add(MaxPooling2D(pool_size=(2,2)))\n",
    "\n",
    "cnn_model.add(Conv2D(64, (3,3), activation='relu'))\n",
    "cnn_model.add(MaxPooling2D(pool_size=(2,2)))\n",
    "\n",
    "cnn_model.add(Flatten())\n",
    "\n",
    "cnn_model.add(Dense(64, activation='relu'))\n",
    "cnn_model.add(BatchNormalization())\n",
    "cnn_model.add(Dropout(0.3))\n",
    "\n",
    "cnn_model.add(Dense(32, activation='relu'))\n",
    "cnn_model.add(BatchNormalization())\n",
    "cnn_model.add(Dropout(0.3))\n",
    "\n",
    "cnn_model.add(Dense(1, activation='sigmoid'))"
   ]
  },
  {
   "cell_type": "code",
   "execution_count": 180,
   "id": "42961623-178a-4a1f-8fa4-266e50a719e3",
   "metadata": {},
   "outputs": [
    {
     "name": "stdout",
     "output_type": "stream",
     "text": [
      "Model: \"sequential_14\"\n",
      "_________________________________________________________________\n",
      " Layer (type)                Output Shape              Param #   \n",
      "=================================================================\n",
      " sequential_11 (Sequential)  (None, 256, 256, 3)       0         \n",
      "                                                                 \n",
      " rescaling_9 (Rescaling)     (None, 256, 256, 3)       0         \n",
      "                                                                 \n",
      " conv2d_21 (Conv2D)          (None, 254, 254, 16)      448       \n",
      "                                                                 \n",
      " max_pooling2d_21 (MaxPoolin  (None, 127, 127, 16)     0         \n",
      " g2D)                                                            \n",
      "                                                                 \n",
      " conv2d_22 (Conv2D)          (None, 125, 125, 32)      4640      \n",
      "                                                                 \n",
      " max_pooling2d_22 (MaxPoolin  (None, 62, 62, 32)       0         \n",
      " g2D)                                                            \n",
      "                                                                 \n",
      " conv2d_23 (Conv2D)          (None, 60, 60, 64)        18496     \n",
      "                                                                 \n",
      " max_pooling2d_23 (MaxPoolin  (None, 30, 30, 64)       0         \n",
      " g2D)                                                            \n",
      "                                                                 \n",
      " flatten_9 (Flatten)         (None, 57600)             0         \n",
      "                                                                 \n",
      " dense_24 (Dense)            (None, 64)                3686464   \n",
      "                                                                 \n",
      " batch_normalization_15 (Bat  (None, 64)               256       \n",
      " chNormalization)                                                \n",
      "                                                                 \n",
      " dropout_15 (Dropout)        (None, 64)                0         \n",
      "                                                                 \n",
      " dense_25 (Dense)            (None, 32)                2080      \n",
      "                                                                 \n",
      " batch_normalization_16 (Bat  (None, 32)               128       \n",
      " chNormalization)                                                \n",
      "                                                                 \n",
      " dropout_16 (Dropout)        (None, 32)                0         \n",
      "                                                                 \n",
      " dense_26 (Dense)            (None, 1)                 33        \n",
      "                                                                 \n",
      "=================================================================\n",
      "Total params: 3,712,545\n",
      "Trainable params: 3,712,353\n",
      "Non-trainable params: 192\n",
      "_________________________________________________________________\n"
     ]
    }
   ],
   "source": [
    "cnn_model.summary()"
   ]
  },
  {
   "cell_type": "code",
   "execution_count": 181,
   "id": "bbad185a-c7d6-4f3f-ac90-df591f9337ad",
   "metadata": {},
   "outputs": [],
   "source": [
    "cnn_model.compile(optimizer='adam',\n",
    "                  loss='bce',\n",
    "                  metrics='acc'\n",
    "                 )"
   ]
  },
  {
   "cell_type": "code",
   "execution_count": null,
   "id": "1f20a2bc-1635-4558-8e5f-822157aee165",
   "metadata": {},
   "outputs": [],
   "source": [
    "cnn_model.fit(train_ds, validation_data=val_ds, epochs=10)"
   ]
  }
 ],
 "metadata": {
  "kernelspec": {
   "display_name": "python 3.8 tensorflow-metal",
   "language": "python",
   "name": "tf_metal"
  },
  "language_info": {
   "codemirror_mode": {
    "name": "ipython",
    "version": 3
   },
   "file_extension": ".py",
   "mimetype": "text/x-python",
   "name": "python",
   "nbconvert_exporter": "python",
   "pygments_lexer": "ipython3",
   "version": "3.8.16"
  }
 },
 "nbformat": 4,
 "nbformat_minor": 5
}
